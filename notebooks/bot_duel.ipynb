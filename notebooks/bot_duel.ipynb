{
 "cells": [
  {
   "cell_type": "code",
   "execution_count": 4,
   "metadata": {},
   "outputs": [],
   "source": [
    "import sys\n",
    "IN_COLAB = 'google.colab' in sys.modules\n",
    "if IN_COLAB:\n",
    "  print(\"Running in Colab.\\nCloning Repo...\\n\")\n",
    "  %cd /content\n",
    "  !git clone https://github.com/ColourlessSpearmint/Mantis.git\n",
    "  %cd Mantis\n"
   ]
  },
  {
   "cell_type": "code",
   "execution_count": 5,
   "metadata": {},
   "outputs": [],
   "source": [
    "import os\n",
    "import sys\n",
    "import matplotlib.pyplot as plt\n",
    "import random\n",
    "\n",
    "# Add the src directory to the Python path so game module can be imported\n",
    "if IN_COLAB:\n",
    "  sys.path.append(os.path.abspath(os.path.join('..', 'Mantis/src')))\n",
    "else:\n",
    "  sys.path.append(os.path.abspath(os.path.join('..', 'src')))\n",
    "from game import bot_duel, MatcherBot, ScorerBot, ThiefBot, RandomBot\n",
    "\n",
    "def map_to_bot_names(data):\n",
    "  \"\"\"\n",
    "  Maps input numbers to corresponding bot names:\n",
    "    0 -> \"MatcherBot\"\n",
    "    1 -> \"ScorerBot\"\n",
    "    2 -> \"ThiefBot\"\n",
    "    3 -> \"RandomBot\"\n",
    "\n",
    "  Args:\n",
    "    data: A list of numbers.\n",
    "\n",
    "  Returns:\n",
    "    A list of strings, where each number is replaced by its corresponding bot name.\n",
    "  \"\"\"\n",
    "\n",
    "  bot_names = {\n",
    "      0: \"MatcherBot\",\n",
    "      1: \"ScorerBot\",\n",
    "      2: \"ThiefBot\",\n",
    "      3: \"RandomBot\"\n",
    "  }\n",
    "\n",
    "  return [bot_names.get(item, \"UnknownBot\") for item in data]\n",
    "\n",
    "def plot_common_items(data):\n",
    "  \"\"\"\n",
    "  Plots the frequency of items in the given list.\n",
    "\n",
    "  Args:\n",
    "    data: A list of items.\n",
    "\n",
    "  Returns:\n",
    "    None\n",
    "  \"\"\"\n",
    "\n",
    "  # Count the occurrences of each item\n",
    "  item_counts = {}\n",
    "  for item in data:\n",
    "    if item in item_counts:\n",
    "      item_counts[item] += 1\n",
    "    else:\n",
    "      item_counts[item] = 1\n",
    "\n",
    "  # Sort the items by frequency in descending order\n",
    "  sorted_items = sorted(item_counts.items(), key=lambda x: x[1], reverse=True)\n",
    "\n",
    "  # Extract the items and their frequencies\n",
    "  items, frequencies = zip(*sorted_items)\n",
    "\n",
    "  # Create the bar plot\n",
    "  plt.bar(items, frequencies)\n",
    "  plt.xlabel('Items')\n",
    "  plt.ylabel('Frequency')\n",
    "  plt.title('Frequency of Items')\n",
    "  plt.show()\n",
    "\n",
    "def run_duel(player_pool=[], random_players=False, games=1):\n",
    "  winners = []\n",
    "  turns_list = []\n",
    "\n",
    "  for i in range(games):\n",
    "    if random_players:\n",
    "      players = [random.choice(player_pool) for _ in range(4)]\n",
    "    else:\n",
    "      assert len(player_pool) == 4\n",
    "      players = player_pool\n",
    "    winner, turns, state = bot_duel(players, verbose=False)\n",
    "    winners.append(winner)\n",
    "    turns_list.append(turns)\n",
    "  return winners\n"
   ]
  },
  {
   "cell_type": "code",
   "execution_count": null,
   "metadata": {},
   "outputs": [
    {
     "data": {
      "image/png": "[encoded data removed]",
      "text/plain": [
       "<Figure size 640x480 with 1 Axes>"
      ]
     },
     "metadata": {},
     "output_type": "display_data"
    }
   ],
   "source": [
    "games = 1000 # @param {\"type\":\"integer\"}\n",
    "player_pool = [MatcherBot(), ScorerBot(), ThiefBot(), RandomBot()]\n",
    "plot_common_items(map_to_bot_names(run_duel(player_pool, True, games)))"
   ]
  }
 ],
 "metadata": {
  "kernelspec": {
   "display_name": "Python 3",
   "language": "python",
   "name": "python3"
  },
  "language_info": {
   "codemirror_mode": {
    "name": "ipython",
    "version": 3
   },
   "file_extension": ".py",
   "mimetype": "text/x-python",
   "name": "python",
   "nbconvert_exporter": "python",
   "pygments_lexer": "ipython3",
   "version": "3.11.9"
  }
 },
 "nbformat": 4,
 "nbformat_minor": 2
}
