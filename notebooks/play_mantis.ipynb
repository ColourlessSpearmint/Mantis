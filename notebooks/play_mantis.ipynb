{
 "cells": [
  {
   "cell_type": "code",
   "execution_count": 1,
   "metadata": {},
   "outputs": [
    {
     "name": "stdout",
     "output_type": "stream",
     "text": [
      "Player 0: \u001b[33m1\u001b[0m, \u001b[32m1\u001b[0m, \u001b[35m1\u001b[0m, \u001b[1;35m1\u001b[0m, Score: 0\n",
      "Player 1: \u001b[33m1\u001b[0m, \u001b[32m2\u001b[0m, \u001b[34m1\u001b[0m, Score: 0\n",
      "Player 2: \u001b[33m2\u001b[0m, \u001b[32m1\u001b[0m, \u001b[34m1\u001b[0m, Score: 0\n",
      "Player 3: \u001b[31m2\u001b[0m, \u001b[33m1\u001b[0m, \u001b[34m1\u001b[0m, \u001b[35m1\u001b[0m, Score: 0\n",
      "Possible Card Colors: \u001b[33m#\u001b[0m \u001b[35m#\u001b[0m \u001b[38;5;208m#\u001b[0m \n",
      "\n",
      "Player 1's turn\n"
     ]
    }
   ],
   "source": [
    "import sys\n",
    "import os\n",
    "from IPython.display import clear_output  # Import for clearing the Jupyter output\n",
    "\n",
    "# Add the src directory to the Python path\n",
    "sys.path.append(os.path.abspath(os.path.join('..', 'src')))\n",
    "from game import MantisGame\n",
    "\n",
    "# Initialize the game\n",
    "game = MantisGame()\n",
    "game.reset_state()\n",
    "\n",
    "def play_game():\n",
    "    current_player = 0\n",
    "    winner = None\n",
    "    while winner is None:\n",
    "        game.print_state()\n",
    "        print(f\"\\nPlayer {current_player}'s turn\")\n",
    "        target = input(\"Enter the target player (0-3): \")\n",
    "        if target == '':  # For escaping\n",
    "            break\n",
    "        else:\n",
    "            target = int(target)\n",
    "        clear_output(wait=True)   \n",
    "        game.take_turn(current_player, target)\n",
    "        #game.reveal_card()\n",
    "        game.new_card()\n",
    "\n",
    "        current_player = (current_player + 1) % 4\n",
    "\n",
    "        winner = game.check_gameover()\n",
    "\n",
    "    if winner != None:  # If the user escaped, don't display winner\n",
    "        print(f\"Player {winner} wins!\")\n",
    "\n",
    "# Start the game\n",
    "play_game()\n"
   ]
  }
 ],
 "metadata": {
  "kernelspec": {
   "display_name": "Python 3",
   "language": "python",
   "name": "python3"
  },
  "language_info": {
   "codemirror_mode": {
    "name": "ipython",
    "version": 3
   },
   "file_extension": ".py",
   "mimetype": "text/x-python",
   "name": "python",
   "nbconvert_exporter": "python",
   "pygments_lexer": "ipython3",
   "version": "3.11.9"
  }
 },
 "nbformat": 4,
 "nbformat_minor": 2
}
