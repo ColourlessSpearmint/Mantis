{
  "cells": [
    {
      "cell_type": "code",
      "source": [
        "# @title Parameters\n",
        "# @markdown Player Types\n",
        "Player0 = \"manual\" # @param [\"manual\",\"MatcherBot\",\"ScorerBot\",\"ThiefBot\",\"RandomBot\"]\n",
        "Player1 = \"ScorerBot\" # @param [\"manual\",\"MatcherBot\",\"ScorerBot\",\"ThiefBot\",\"RandomBot\"]\n",
        "Player2 = \"ThiefBot\" # @param [\"manual\",\"MatcherBot\",\"ScorerBot\",\"ThiefBot\",\"RandomBot\"]\n",
        "Player3 = \"RandomBot\" # @param [\"manual\",\"MatcherBot\",\"ScorerBot\",\"ThiefBot\",\"RandomBot\"]\n",
        "# @markdown Player Names (leave blank for bots)\n",
        "Player0_Name = \"Ethan\" # @param {\"type\":\"string\"}\n",
        "Player1_Name = \"\" # @param {\"type\":\"string\"}\n",
        "Player2_Name = \"\" # @param {\"type\":\"string\"}\n",
        "Player3_Name = \"\" # @param {\"type\":\"string\"}\n"
      ],
      "metadata": {
        "id": "Cp9IurXdihxZ"
      },
      "execution_count": 1,
      "outputs": []
    },
    {
      "cell_type": "code",
      "execution_count": 2,
      "metadata": {
        "colab": {
          "base_uri": "https://localhost:8080/"
        },
        "id": "dWLXRI60IQW3",
        "outputId": "8bd8ddb1-7392-419a-eb0f-f00f6a59dbe3"
      },
      "outputs": [
        {
          "output_type": "stream",
          "name": "stdout",
          "text": [
            "Running in Colab.\n",
            "Cloning Repo...\n",
            "\n",
            "/content\n",
            "Cloning into 'Mantis'...\n",
            "remote: Enumerating objects: 180, done.\u001b[K\n",
            "remote: Counting objects: 100% (180/180), done.\u001b[K\n",
            "remote: Compressing objects: 100% (126/126), done.\u001b[K\n",
            "remote: Total 180 (delta 79), reused 142 (delta 49), pack-reused 0 (from 0)\u001b[K\n",
            "Receiving objects: 100% (180/180), 5.23 MiB | 29.94 MiB/s, done.\n",
            "Resolving deltas: 100% (79/79), done.\n",
            "/content/Mantis\n"
          ]
        }
      ],
      "source": [
        "import sys\n",
        "IN_COLAB = 'google.colab' in sys.modules\n",
        "if IN_COLAB:\n",
        "  print(\"Running in Colab.\\nCloning Repo...\\n\")\n",
        "  %cd /content\n",
        "  !git clone https://github.com/ColourlessSpearmint/Mantis.git\n",
        "  %cd Mantis"
      ]
    },
    {
      "cell_type": "code",
      "execution_count": 4,
      "metadata": {
        "colab": {
          "base_uri": "https://localhost:8080/",
          "height": 1000
        },
        "id": "atTk9pOnHN92",
        "outputId": "8605b6ab-2a7c-464f-b6b2-cf47efd78533"
      },
      "outputs": [
        {
          "output_type": "stream",
          "name": "stdout",
          "text": [
            "Ethan: \u001b[33m1\u001b[0m, \u001b[32m1\u001b[0m, \u001b[35m2\u001b[0m, Score: 0\n",
            "ScorerBot: \u001b[38;5;208m1\u001b[0m, \u001b[33m1\u001b[0m, \u001b[35m1\u001b[0m, \u001b[1;35m1\u001b[0m, Score: 0\n",
            "ThiefBot: \u001b[31m2\u001b[0m, \u001b[38;5;208m1\u001b[0m, \u001b[1;35m1\u001b[0m, Score: 0\n",
            "RandomBot: \u001b[31m1\u001b[0m, \u001b[34m2\u001b[0m, \u001b[1;35m1\u001b[0m, Score: 0\n",
            "Possible Card Colors: \u001b[33m#\u001b[0m \u001b[38;5;208m#\u001b[0m \u001b[31m#\u001b[0m \n",
            "Ethan, please enter target player: 2\n",
            "Ethan (0) performed action 'steal' on ThiefBot (2).\n",
            "Ethan: \u001b[33m1\u001b[0m, \u001b[32m1\u001b[0m, \u001b[35m2\u001b[0m, Score: 0\n",
            "ScorerBot: \u001b[38;5;208m1\u001b[0m, \u001b[33m1\u001b[0m, \u001b[35m1\u001b[0m, \u001b[1;35m1\u001b[0m, Score: 0\n",
            "ThiefBot: \u001b[31m2\u001b[0m, \u001b[38;5;208m1\u001b[0m, \u001b[33m1\u001b[0m, \u001b[1;35m1\u001b[0m, Score: 0\n",
            "RandomBot: \u001b[31m1\u001b[0m, \u001b[34m2\u001b[0m, \u001b[1;35m1\u001b[0m, Score: 0\n",
            "Possible Card Colors: \u001b[32m#\u001b[0m \u001b[34m#\u001b[0m \u001b[33m#\u001b[0m \n",
            "ScorerBot (1) performed action 'score'.\n",
            "Ethan: \u001b[33m1\u001b[0m, \u001b[32m1\u001b[0m, \u001b[35m2\u001b[0m, Score: 0\n",
            "ScorerBot: \u001b[38;5;208m1\u001b[0m, \u001b[35m1\u001b[0m, \u001b[1;35m1\u001b[0m, Score: 2\n",
            "ThiefBot: \u001b[31m2\u001b[0m, \u001b[38;5;208m1\u001b[0m, \u001b[33m1\u001b[0m, \u001b[1;35m1\u001b[0m, Score: 0\n",
            "RandomBot: \u001b[31m1\u001b[0m, \u001b[34m2\u001b[0m, \u001b[1;35m1\u001b[0m, Score: 0\n",
            "Possible Card Colors: \u001b[31m#\u001b[0m \u001b[34m#\u001b[0m \u001b[33m#\u001b[0m \n",
            "ThiefBot (2) performed action 'score'.\n",
            "Ethan: \u001b[33m1\u001b[0m, \u001b[32m1\u001b[0m, \u001b[35m2\u001b[0m, Score: 0\n",
            "ScorerBot: \u001b[38;5;208m1\u001b[0m, \u001b[35m1\u001b[0m, \u001b[1;35m1\u001b[0m, Score: 2\n",
            "ThiefBot: \u001b[31m2\u001b[0m, \u001b[38;5;208m1\u001b[0m, \u001b[33m1\u001b[0m, \u001b[34m1\u001b[0m, \u001b[1;35m1\u001b[0m, Score: 0\n",
            "RandomBot: \u001b[31m1\u001b[0m, \u001b[34m2\u001b[0m, \u001b[1;35m1\u001b[0m, Score: 0\n",
            "Possible Card Colors: \u001b[34m#\u001b[0m \u001b[32m#\u001b[0m \u001b[31m#\u001b[0m \n",
            "RandomBot (3) performed action 'steal' on ScorerBot (1).\n",
            "Ethan: \u001b[33m1\u001b[0m, \u001b[32m1\u001b[0m, \u001b[35m2\u001b[0m, Score: 0\n",
            "ScorerBot: \u001b[31m1\u001b[0m, \u001b[38;5;208m1\u001b[0m, \u001b[35m1\u001b[0m, \u001b[1;35m1\u001b[0m, Score: 2\n",
            "ThiefBot: \u001b[31m2\u001b[0m, \u001b[38;5;208m1\u001b[0m, \u001b[33m1\u001b[0m, \u001b[34m1\u001b[0m, \u001b[1;35m1\u001b[0m, Score: 0\n",
            "RandomBot: \u001b[31m1\u001b[0m, \u001b[34m2\u001b[0m, \u001b[1;35m1\u001b[0m, Score: 0\n",
            "Possible Card Colors: \u001b[38;5;208m#\u001b[0m \u001b[1;35m#\u001b[0m \u001b[35m#\u001b[0m \n",
            "Ethan, please enter target player: 1\n",
            "Ethan (0) performed action 'steal' on ScorerBot (1).\n",
            "Ethan: \u001b[33m1\u001b[0m, \u001b[32m1\u001b[0m, \u001b[35m4\u001b[0m, Score: 0\n",
            "ScorerBot: \u001b[31m1\u001b[0m, \u001b[38;5;208m1\u001b[0m, \u001b[1;35m1\u001b[0m, Score: 2\n",
            "ThiefBot: \u001b[31m2\u001b[0m, \u001b[38;5;208m1\u001b[0m, \u001b[33m1\u001b[0m, \u001b[34m1\u001b[0m, \u001b[1;35m1\u001b[0m, Score: 0\n",
            "RandomBot: \u001b[31m1\u001b[0m, \u001b[34m2\u001b[0m, \u001b[1;35m1\u001b[0m, Score: 0\n",
            "Possible Card Colors: \u001b[35m#\u001b[0m \u001b[1;35m#\u001b[0m \u001b[33m#\u001b[0m \n",
            "ScorerBot (1) performed action 'score'.\n",
            "Ethan: \u001b[33m1\u001b[0m, \u001b[32m1\u001b[0m, \u001b[35m4\u001b[0m, Score: 0\n",
            "ScorerBot: \u001b[31m1\u001b[0m, \u001b[38;5;208m1\u001b[0m, Score: 4\n",
            "ThiefBot: \u001b[31m2\u001b[0m, \u001b[38;5;208m1\u001b[0m, \u001b[33m1\u001b[0m, \u001b[34m1\u001b[0m, \u001b[1;35m1\u001b[0m, Score: 0\n",
            "RandomBot: \u001b[31m1\u001b[0m, \u001b[34m2\u001b[0m, \u001b[1;35m1\u001b[0m, Score: 0\n",
            "Possible Card Colors: \u001b[31m#\u001b[0m \u001b[34m#\u001b[0m \u001b[1;35m#\u001b[0m \n",
            "ThiefBot (2) performed action 'steal' on RandomBot (3).\n",
            "Ethan: \u001b[33m1\u001b[0m, \u001b[32m1\u001b[0m, \u001b[35m4\u001b[0m, Score: 0\n",
            "ScorerBot: \u001b[31m1\u001b[0m, \u001b[38;5;208m1\u001b[0m, Score: 4\n",
            "ThiefBot: \u001b[31m2\u001b[0m, \u001b[38;5;208m1\u001b[0m, \u001b[33m1\u001b[0m, \u001b[34m1\u001b[0m, \u001b[1;35m3\u001b[0m, Score: 0\n",
            "RandomBot: \u001b[31m1\u001b[0m, \u001b[34m2\u001b[0m, Score: 0\n",
            "Possible Card Colors: \u001b[38;5;208m#\u001b[0m \u001b[1;35m#\u001b[0m \u001b[32m#\u001b[0m \n",
            "RandomBot (3) performed action 'steal' on Ethan (0).\n",
            "Ethan: \u001b[33m1\u001b[0m, \u001b[35m4\u001b[0m, Score: 0\n",
            "ScorerBot: \u001b[31m1\u001b[0m, \u001b[38;5;208m1\u001b[0m, Score: 4\n",
            "ThiefBot: \u001b[31m2\u001b[0m, \u001b[38;5;208m1\u001b[0m, \u001b[33m1\u001b[0m, \u001b[34m1\u001b[0m, \u001b[1;35m3\u001b[0m, Score: 0\n",
            "RandomBot: \u001b[31m1\u001b[0m, \u001b[32m2\u001b[0m, \u001b[34m2\u001b[0m, Score: 0\n",
            "Possible Card Colors: \u001b[32m#\u001b[0m \u001b[33m#\u001b[0m \u001b[34m#\u001b[0m \n",
            "Ethan, please enter target player: 3\n",
            "Ethan (0) performed action 'steal' on RandomBot (3).\n",
            "Ethan: \u001b[33m1\u001b[0m, \u001b[35m4\u001b[0m, Score: 0\n",
            "ScorerBot: \u001b[31m1\u001b[0m, \u001b[38;5;208m1\u001b[0m, Score: 4\n",
            "ThiefBot: \u001b[31m2\u001b[0m, \u001b[38;5;208m1\u001b[0m, \u001b[33m1\u001b[0m, \u001b[34m1\u001b[0m, \u001b[1;35m3\u001b[0m, Score: 0\n",
            "RandomBot: \u001b[31m1\u001b[0m, \u001b[33m1\u001b[0m, \u001b[32m2\u001b[0m, \u001b[34m2\u001b[0m, Score: 0\n",
            "Possible Card Colors: \u001b[35m#\u001b[0m \u001b[1;35m#\u001b[0m \u001b[38;5;208m#\u001b[0m \n",
            "ScorerBot (1) performed action 'score'.\n",
            "Ethan: \u001b[33m1\u001b[0m, \u001b[35m4\u001b[0m, Score: 0\n",
            "ScorerBot: \u001b[31m1\u001b[0m, \u001b[38;5;208m1\u001b[0m, \u001b[35m1\u001b[0m, Score: 4\n",
            "ThiefBot: \u001b[31m2\u001b[0m, \u001b[38;5;208m1\u001b[0m, \u001b[33m1\u001b[0m, \u001b[34m1\u001b[0m, \u001b[1;35m3\u001b[0m, Score: 0\n",
            "RandomBot: \u001b[31m1\u001b[0m, \u001b[33m1\u001b[0m, \u001b[32m2\u001b[0m, \u001b[34m2\u001b[0m, Score: 0\n",
            "Possible Card Colors: \u001b[32m#\u001b[0m \u001b[1;35m#\u001b[0m \u001b[34m#\u001b[0m \n",
            "ThiefBot (2) performed action 'steal' on RandomBot (3).\n",
            "Ethan: \u001b[33m1\u001b[0m, \u001b[35m4\u001b[0m, Score: 0\n",
            "ScorerBot: \u001b[31m1\u001b[0m, \u001b[38;5;208m1\u001b[0m, \u001b[35m1\u001b[0m, Score: 4\n",
            "ThiefBot: \u001b[31m2\u001b[0m, \u001b[38;5;208m1\u001b[0m, \u001b[33m1\u001b[0m, \u001b[34m4\u001b[0m, \u001b[1;35m3\u001b[0m, Score: 0\n",
            "RandomBot: \u001b[31m1\u001b[0m, \u001b[33m1\u001b[0m, \u001b[32m2\u001b[0m, Score: 0\n",
            "Possible Card Colors: \u001b[31m#\u001b[0m \u001b[33m#\u001b[0m \u001b[38;5;208m#\u001b[0m \n",
            "RandomBot (3) performed action 'steal' on ThiefBot (2).\n",
            "Ethan: \u001b[33m1\u001b[0m, \u001b[35m4\u001b[0m, Score: 0\n",
            "ScorerBot: \u001b[31m1\u001b[0m, \u001b[38;5;208m1\u001b[0m, \u001b[35m1\u001b[0m, Score: 4\n",
            "ThiefBot: \u001b[31m2\u001b[0m, \u001b[33m1\u001b[0m, \u001b[34m4\u001b[0m, \u001b[1;35m3\u001b[0m, Score: 0\n",
            "RandomBot: \u001b[31m1\u001b[0m, \u001b[38;5;208m2\u001b[0m, \u001b[33m1\u001b[0m, \u001b[32m2\u001b[0m, Score: 0\n",
            "Possible Card Colors: \u001b[35m#\u001b[0m \u001b[1;35m#\u001b[0m \u001b[34m#\u001b[0m \n"
          ]
        },
        {
          "output_type": "error",
          "ename": "KeyboardInterrupt",
          "evalue": "Interrupted by user",
          "traceback": [
            "\u001b[0;31m---------------------------------------------------------------------------\u001b[0m",
            "\u001b[0;31mKeyboardInterrupt\u001b[0m                         Traceback (most recent call last)",
            "\u001b[0;32m<ipython-input-4-74c2be0bd58f>\u001b[0m in \u001b[0;36m<cell line: 49>\u001b[0;34m()\u001b[0m\n\u001b[1;32m     47\u001b[0m \u001b[0;34m\u001b[0m\u001b[0m\n\u001b[1;32m     48\u001b[0m \u001b[0;31m# Start the game\u001b[0m\u001b[0;34m\u001b[0m\u001b[0;34m\u001b[0m\u001b[0m\n\u001b[0;32m---> 49\u001b[0;31m \u001b[0mplay_game\u001b[0m\u001b[0;34m(\u001b[0m\u001b[0;34m)\u001b[0m\u001b[0;34m\u001b[0m\u001b[0;34m\u001b[0m\u001b[0m\n\u001b[0m",
            "\u001b[0;32m<ipython-input-4-74c2be0bd58f>\u001b[0m in \u001b[0;36mplay_game\u001b[0;34m()\u001b[0m\n\u001b[1;32m     40\u001b[0m       \u001b[0mplayer_index\u001b[0m \u001b[0;34m=\u001b[0m \u001b[0mturn\u001b[0m \u001b[0;34m%\u001b[0m \u001b[0;36m4\u001b[0m\u001b[0;34m\u001b[0m\u001b[0;34m\u001b[0m\u001b[0m\n\u001b[1;32m     41\u001b[0m       \u001b[0;32mif\u001b[0m \u001b[0mgame\u001b[0m\u001b[0;34m.\u001b[0m\u001b[0mplayers\u001b[0m\u001b[0;34m[\u001b[0m\u001b[0mplayer_index\u001b[0m\u001b[0;34m]\u001b[0m \u001b[0;34m==\u001b[0m \u001b[0;34m\"manual\"\u001b[0m\u001b[0;34m:\u001b[0m\u001b[0;34m\u001b[0m\u001b[0;34m\u001b[0m\u001b[0m\n\u001b[0;32m---> 42\u001b[0;31m         \u001b[0mtarget\u001b[0m \u001b[0;34m=\u001b[0m \u001b[0mint\u001b[0m\u001b[0;34m(\u001b[0m\u001b[0minput\u001b[0m\u001b[0;34m(\u001b[0m\u001b[0;34mf\"{game.playernames[player_index]}, please enter target player: \"\u001b[0m\u001b[0;34m)\u001b[0m\u001b[0;34m)\u001b[0m\u001b[0;34m\u001b[0m\u001b[0;34m\u001b[0m\u001b[0m\n\u001b[0m\u001b[1;32m     43\u001b[0m         \u001b[0mgame\u001b[0m\u001b[0;34m.\u001b[0m\u001b[0msimulate_turn\u001b[0m\u001b[0;34m(\u001b[0m\u001b[0mplayer_index\u001b[0m\u001b[0;34m,\u001b[0m \u001b[0mtarget\u001b[0m\u001b[0;34m)\u001b[0m\u001b[0;34m\u001b[0m\u001b[0;34m\u001b[0m\u001b[0m\n\u001b[1;32m     44\u001b[0m       \u001b[0;32melse\u001b[0m\u001b[0;34m:\u001b[0m\u001b[0;34m\u001b[0m\u001b[0;34m\u001b[0m\u001b[0m\n",
            "\u001b[0;32m/usr/local/lib/python3.10/dist-packages/ipykernel/kernelbase.py\u001b[0m in \u001b[0;36mraw_input\u001b[0;34m(self, prompt)\u001b[0m\n\u001b[1;32m    849\u001b[0m                 \u001b[0;34m\"raw_input was called, but this frontend does not support input requests.\"\u001b[0m\u001b[0;34m\u001b[0m\u001b[0;34m\u001b[0m\u001b[0m\n\u001b[1;32m    850\u001b[0m             )\n\u001b[0;32m--> 851\u001b[0;31m         return self._input_request(str(prompt),\n\u001b[0m\u001b[1;32m    852\u001b[0m             \u001b[0mself\u001b[0m\u001b[0;34m.\u001b[0m\u001b[0m_parent_ident\u001b[0m\u001b[0;34m,\u001b[0m\u001b[0;34m\u001b[0m\u001b[0;34m\u001b[0m\u001b[0m\n\u001b[1;32m    853\u001b[0m             \u001b[0mself\u001b[0m\u001b[0;34m.\u001b[0m\u001b[0m_parent_header\u001b[0m\u001b[0;34m,\u001b[0m\u001b[0;34m\u001b[0m\u001b[0;34m\u001b[0m\u001b[0m\n",
            "\u001b[0;32m/usr/local/lib/python3.10/dist-packages/ipykernel/kernelbase.py\u001b[0m in \u001b[0;36m_input_request\u001b[0;34m(self, prompt, ident, parent, password)\u001b[0m\n\u001b[1;32m    893\u001b[0m             \u001b[0;32mexcept\u001b[0m \u001b[0mKeyboardInterrupt\u001b[0m\u001b[0;34m:\u001b[0m\u001b[0;34m\u001b[0m\u001b[0;34m\u001b[0m\u001b[0m\n\u001b[1;32m    894\u001b[0m                 \u001b[0;31m# re-raise KeyboardInterrupt, to truncate traceback\u001b[0m\u001b[0;34m\u001b[0m\u001b[0;34m\u001b[0m\u001b[0m\n\u001b[0;32m--> 895\u001b[0;31m                 \u001b[0;32mraise\u001b[0m \u001b[0mKeyboardInterrupt\u001b[0m\u001b[0;34m(\u001b[0m\u001b[0;34m\"Interrupted by user\"\u001b[0m\u001b[0;34m)\u001b[0m \u001b[0;32mfrom\u001b[0m \u001b[0;32mNone\u001b[0m\u001b[0;34m\u001b[0m\u001b[0;34m\u001b[0m\u001b[0m\n\u001b[0m\u001b[1;32m    896\u001b[0m             \u001b[0;32mexcept\u001b[0m \u001b[0mException\u001b[0m \u001b[0;32mas\u001b[0m \u001b[0me\u001b[0m\u001b[0;34m:\u001b[0m\u001b[0;34m\u001b[0m\u001b[0;34m\u001b[0m\u001b[0m\n\u001b[1;32m    897\u001b[0m                 \u001b[0mself\u001b[0m\u001b[0;34m.\u001b[0m\u001b[0mlog\u001b[0m\u001b[0;34m.\u001b[0m\u001b[0mwarning\u001b[0m\u001b[0;34m(\u001b[0m\u001b[0;34m\"Invalid Message:\"\u001b[0m\u001b[0;34m,\u001b[0m \u001b[0mexc_info\u001b[0m\u001b[0;34m=\u001b[0m\u001b[0;32mTrue\u001b[0m\u001b[0;34m)\u001b[0m\u001b[0;34m\u001b[0m\u001b[0;34m\u001b[0m\u001b[0m\n",
            "\u001b[0;31mKeyboardInterrupt\u001b[0m: Interrupted by user"
          ]
        }
      ],
      "source": [
        "import os\n",
        "from IPython.display import clear_output  # Import for clearing the Jupyter output\n",
        "import sys\n",
        "\n",
        "# Add the src directory to the Python path so game module can be imported\n",
        "sys.path.append(os.path.abspath(os.path.join('..', 'Mantis/src')))\n",
        "from game import MantisGame, MatcherBot, ScorerBot, ThiefBot, RandomBot\n",
        "\n",
        "# Initialize the game\n",
        "game = MantisGame()\n",
        "\n",
        "matcher = MatcherBot()\n",
        "scorer = ScorerBot()\n",
        "thief = ThiefBot()\n",
        "random_bot = RandomBot()\n",
        "\n",
        "# Parse Players\n",
        "player_types = [Player0, Player1, Player2, Player3]\n",
        "player_names = [Player0_Name, Player1_Name, Player2_Name, Player3_Name]\n",
        "player_type_dict = {\n",
        "    \"manual\": \"manual\",\n",
        "    \"MatcherBot\": matcher,\n",
        "    \"ScorerBot\": scorer,\n",
        "    \"ThiefBot\": thief,\n",
        "    \"RandomBot\": random_bot\n",
        "}\n",
        "\n",
        "for player_index in range(4):\n",
        "  player = player_type_dict[player_types[player_index]]\n",
        "  game.set_player(player_index, player)\n",
        "  if player == \"manual\":\n",
        "    game.playernames[player_index] = player_names[player_index]\n",
        "\n",
        "def play_game():\n",
        "    game.reset_state()\n",
        "    game.print_state()\n",
        "    turn = 0\n",
        "\n",
        "    while game.check_gameover() == None:\n",
        "      player_index = turn % 4\n",
        "      if game.players[player_index] == \"manual\":\n",
        "        target = int(input(f\"{game.playernames[player_index]}, please enter target player: \"))\n",
        "        game.simulate_turn(player_index, target)\n",
        "      else:\n",
        "        game.simulate_turn(player_index)\n",
        "      turn += 1\n",
        "\n",
        "# Start the game\n",
        "play_game()\n"
      ]
    }
  ],
  "metadata": {
    "colab": {
      "provenance": []
    },
    "kernelspec": {
      "display_name": "Python 3",
      "language": "python",
      "name": "python3"
    },
    "language_info": {
      "codemirror_mode": {
        "name": "ipython",
        "version": 3
      },
      "file_extension": ".py",
      "mimetype": "text/x-python",
      "name": "python",
      "nbconvert_exporter": "python",
      "pygments_lexer": "ipython3",
      "version": "3.11.9"
    }
  },
  "nbformat": 4,
  "nbformat_minor": 0
}