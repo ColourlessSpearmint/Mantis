{
  "cells": [
    {
      "cell_type": "code",
      "execution_count": 1,
      "metadata": {
        "colab": {
          "base_uri": "https://localhost:8080/"
        },
        "id": "dWLXRI60IQW3",
        "outputId": "e0ea456f-5768-477b-8940-0877466e8050"
      },
      "outputs": [
        {
          "name": "stdout",
          "output_type": "stream",
          "text": [
            "Running in Colab.\n",
            "Cloning Repo...\n",
            "\n",
            "/content\n",
            "Cloning into 'Mantis'...\n",
            "remote: Enumerating objects: 83, done.\u001b[K\n",
            "remote: Counting objects: 100% (83/83), done.\u001b[K\n",
            "remote: Compressing objects: 100% (58/58), done.\u001b[K\n",
            "remote: Total 83 (delta 28), reused 71 (delta 20), pack-reused 0 (from 0)\u001b[K\n",
            "Receiving objects: 100% (83/83), 4.64 MiB | 16.90 MiB/s, done.\n",
            "Resolving deltas: 100% (28/28), done.\n",
            "/content/Mantis\n",
            "Branch 'feature/game_logic' set up to track remote branch 'feature/game_logic' from 'origin'.\n",
            "Switched to a new branch 'feature/game_logic'\n",
            "/content/Mantis/src\n"
          ]
        }
      ],
      "source": [
        "import sys\n",
        "IN_COLAB = 'google.colab' in sys.modules\n",
        "if IN_COLAB:\n",
        "  print(\"Running in Colab.\\nCloning Repo...\\n\")\n",
        "  %cd /content\n",
        "  !git clone https://github.com/ColourlessSpearmint/Mantis.git\n",
        "  %cd Mantis\n",
        "  !git checkout feature/game_logic\n",
        "  %cd src"
      ]
    },
    {
      "cell_type": "code",
      "execution_count": 3,
      "metadata": {
        "colab": {
          "base_uri": "https://localhost:8080/"
        },
        "id": "atTk9pOnHN92",
        "outputId": "ef59f051-c368-472b-f473-2c75d6769334"
      },
      "outputs": [
        {
          "name": "stdout",
          "output_type": "stream",
          "text": [
            "Player Zero: \u001b[38;5;208m1\u001b[0m, \u001b[32m2\u001b[0m, Score: 0\n",
            "Player One: \u001b[38;5;208m2\u001b[0m, \u001b[32m1\u001b[0m, Score: 0\n",
            "Player Two: \u001b[38;5;208m1\u001b[0m, \u001b[1;35m1\u001b[0m, Score: 0\n",
            "Player Three: \u001b[38;5;208m2\u001b[0m, \u001b[33m1\u001b[0m, \u001b[32m1\u001b[0m, Score: 0\n",
            "Possible Card Colors: \u001b[35m#\u001b[0m \u001b[31m#\u001b[0m \u001b[1;35m#\u001b[0m \n",
            "\n",
            "Player 0's turn\n",
            "Player Zero (0) performed action 'steal' on Player Three (3).\n",
            "Actual Card Color: \u001b[1;35m#\u001b[0m\n",
            "\n",
            "Player Zero: \u001b[38;5;208m1\u001b[0m, \u001b[32m2\u001b[0m, Score: 0\n",
            "Player One: \u001b[38;5;208m2\u001b[0m, \u001b[32m1\u001b[0m, Score: 0\n",
            "Player Two: \u001b[38;5;208m1\u001b[0m, \u001b[1;35m1\u001b[0m, Score: 0\n",
            "Player Three: \u001b[38;5;208m2\u001b[0m, \u001b[33m1\u001b[0m, \u001b[32m1\u001b[0m, \u001b[1;35m1\u001b[0m, Score: 0\n",
            "Possible Card Colors: \u001b[1;35m#\u001b[0m \u001b[34m#\u001b[0m \u001b[33m#\u001b[0m \n",
            "\n",
            "Player 1's turn\n",
            "Player One (1) performed action 'steal' on Player Three (3).\n",
            "Actual Card Color: \u001b[33m#\u001b[0m\n",
            "\n",
            "Player Zero: \u001b[38;5;208m1\u001b[0m, \u001b[32m2\u001b[0m, Score: 0\n",
            "Player One: \u001b[38;5;208m2\u001b[0m, \u001b[33m2\u001b[0m, \u001b[32m1\u001b[0m, Score: 0\n",
            "Player Two: \u001b[38;5;208m1\u001b[0m, \u001b[1;35m1\u001b[0m, Score: 0\n",
            "Player Three: \u001b[38;5;208m2\u001b[0m, \u001b[32m1\u001b[0m, \u001b[1;35m1\u001b[0m, Score: 0\n",
            "Possible Card Colors: \u001b[32m#\u001b[0m \u001b[1;35m#\u001b[0m \u001b[35m#\u001b[0m \n",
            "\n",
            "Player 2's turn\n",
            "Player Two (2) performed action 'score'.\n",
            "Actual Card Color: \u001b[32m#\u001b[0m\n",
            "\n",
            "Player Zero: \u001b[38;5;208m1\u001b[0m, \u001b[32m2\u001b[0m, Score: 0\n",
            "Player One: \u001b[38;5;208m2\u001b[0m, \u001b[33m2\u001b[0m, \u001b[32m1\u001b[0m, Score: 0\n",
            "Player Two: \u001b[38;5;208m1\u001b[0m, \u001b[32m1\u001b[0m, \u001b[1;35m1\u001b[0m, Score: 0\n",
            "Player Three: \u001b[38;5;208m2\u001b[0m, \u001b[32m1\u001b[0m, \u001b[1;35m1\u001b[0m, Score: 0\n",
            "Possible Card Colors: \u001b[35m#\u001b[0m \u001b[33m#\u001b[0m \u001b[32m#\u001b[0m \n",
            "\n",
            "Player 3's turn\n"
          ]
        }
      ],
      "source": [
        "import os\n",
        "from IPython.display import clear_output  # Import for clearing the Jupyter output\n",
        "import sys\n",
        "\n",
        "# Add the src directory to the Python path\n",
        "sys.path.append(os.path.abspath(os.path.join('..', 'src')))\n",
        "from game import MantisGame\n",
        "\n",
        "# Initialize the game\n",
        "game = MantisGame()\n",
        "game.reset_state()\n",
        "\n",
        "def play_game():\n",
        "    current_player = 0\n",
        "    winner = None\n",
        "    while winner is None:\n",
        "        game.print_state()\n",
        "        print(f\"\\nPlayer {current_player}'s turn\")\n",
        "        target = input(\"Enter the target player (0-3): \")\n",
        "        if target == '':  # For escaping\n",
        "            break\n",
        "        else:\n",
        "            target = int(target)\n",
        "        #clear_output(wait=True)\n",
        "        game.action(current_player, target)\n",
        "        game.reveal_card()\n",
        "        print()\n",
        "        game.new_card()\n",
        "\n",
        "        current_player = (current_player + 1) % 4\n",
        "\n",
        "        winner = game.check_gameover()\n",
        "\n",
        "    if winner != None:  # If the user escaped, don't display winner\n",
        "        print(f\"Player {winner} wins!\")\n",
        "\n",
        "# Start the game\n",
        "play_game()\n"
      ]
    }
  ],
  "metadata": {
    "colab": {
      "provenance": []
    },
    "kernelspec": {
      "display_name": "Python 3",
      "language": "python",
      "name": "python3"
    },
    "language_info": {
      "codemirror_mode": {
        "name": "ipython",
        "version": 3
      },
      "file_extension": ".py",
      "mimetype": "text/x-python",
      "name": "python",
      "nbconvert_exporter": "python",
      "pygments_lexer": "ipython3",
      "version": "3.11.9"
    }
  },
  "nbformat": 4,
  "nbformat_minor": 0
}
